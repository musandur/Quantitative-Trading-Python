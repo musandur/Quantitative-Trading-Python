{
 "cells": [
  {
   "cell_type": "markdown",
   "id": "d73a4f4f",
   "metadata": {},
   "source": [
    "$\\textbf{Intro}$"
   ]
  },
  {
   "cell_type": "markdown",
   "id": "7428ae90",
   "metadata": {},
   "source": [
    "In this work we are going to build a regression-based momentum alpha factor.\n",
    "\n",
    "The term regression-based momentum alpha factor refers to a kind of alpha factor that combine linear regressions and simple returns. That means, a first alpha factor is constructed as a simple stock returns within a considered time window; the main time winow. In addition to that alpha factor, a second alpha factor is systematically constructed as the slop of a linear regression model built from a smaller sub time window of the main time window.\n",
    "\n",
    "The smaller time window covers periods ranging from a certain time point within the main time window until the upper bound of the latter. In this way, we believe that combining the slop and the returns yield strong information on stock price's futur direction. For instance, if the slop is strongly positive and the return is strongly positive, then we hope to see a strong upward trend and vice versa. Hence, long and short positions will be taken accordingly. More details on the strategy will be shown later. \n",
    "\n",
    "The trading strategy will be evaluated using metrics that include, expected forward returns, annualized Sharpe Ratio, information coefficient, Turnover, etc.\n"
   ]
  },
  {
   "cell_type": "code",
   "execution_count": 2,
   "id": "34d8e714",
   "metadata": {},
   "outputs": [
    {
     "ename": "ModuleNotFoundError",
     "evalue": "No module named 'sklearn.linear_modelo'",
     "output_type": "error",
     "traceback": [
      "\u001b[1;31m---------------------------------------------------------------------------\u001b[0m",
      "\u001b[1;31mModuleNotFoundError\u001b[0m                       Traceback (most recent call last)",
      "\u001b[1;32m~\\AppData\\Local\\Temp/ipykernel_17472/3807135244.py\u001b[0m in \u001b[0;36m<module>\u001b[1;34m\u001b[0m\n\u001b[0;32m      3\u001b[0m \u001b[1;32mimport\u001b[0m \u001b[0mmatplotlib\u001b[0m\u001b[1;33m.\u001b[0m\u001b[0mpyplot\u001b[0m \u001b[1;32mas\u001b[0m \u001b[0mplt\u001b[0m\u001b[1;33m\u001b[0m\u001b[1;33m\u001b[0m\u001b[0m\n\u001b[0;32m      4\u001b[0m \u001b[1;32mimport\u001b[0m \u001b[0malphalens\u001b[0m \u001b[1;32mas\u001b[0m \u001b[0mal\u001b[0m\u001b[1;33m\u001b[0m\u001b[1;33m\u001b[0m\u001b[0m\n\u001b[1;32m----> 5\u001b[1;33m \u001b[1;32mfrom\u001b[0m \u001b[0msklearn\u001b[0m\u001b[1;33m.\u001b[0m\u001b[0mlinear_modelo\u001b[0m \u001b[1;32mimport\u001b[0m \u001b[0mLinearRegression\u001b[0m\u001b[1;33m\u001b[0m\u001b[1;33m\u001b[0m\u001b[0m\n\u001b[0m\u001b[0;32m      6\u001b[0m \u001b[1;32mfrom\u001b[0m \u001b[0malphalens\u001b[0m\u001b[1;33m.\u001b[0m\u001b[0mplotting\u001b[0m \u001b[1;32mimport\u001b[0m\u001b[1;33m*\u001b[0m\u001b[1;33m\u001b[0m\u001b[1;33m\u001b[0m\u001b[0m\n\u001b[0;32m      7\u001b[0m \u001b[1;32mfrom\u001b[0m \u001b[0malphalens\u001b[0m\u001b[1;33m.\u001b[0m\u001b[0mtears\u001b[0m \u001b[1;32mimport\u001b[0m\u001b[1;33m*\u001b[0m\u001b[1;33m\u001b[0m\u001b[1;33m\u001b[0m\u001b[0m\n",
      "\u001b[1;31mModuleNotFoundError\u001b[0m: No module named 'sklearn.linear_modelo'"
     ]
    }
   ],
   "source": [
    "import numpy as np\n",
    "import pandas as pd\n",
    "import matplotlib.pyplot as plt\n",
    "import alphalens as al\n",
    "from sklearn.linear_modelo import LinearRegression\n",
    "from alphalens.plotting import*\n",
    "from alphalens.tears import*"
   ]
  },
  {
   "cell_type": "code",
   "execution_count": null,
   "id": "64976853",
   "metadata": {},
   "outputs": [],
   "source": []
  }
 ],
 "metadata": {
  "kernelspec": {
   "display_name": "Python 3 (ipykernel)",
   "language": "python",
   "name": "python3"
  },
  "language_info": {
   "codemirror_mode": {
    "name": "ipython",
    "version": 3
   },
   "file_extension": ".py",
   "mimetype": "text/x-python",
   "name": "python",
   "nbconvert_exporter": "python",
   "pygments_lexer": "ipython3",
   "version": "3.8.12"
  }
 },
 "nbformat": 4,
 "nbformat_minor": 5
}
